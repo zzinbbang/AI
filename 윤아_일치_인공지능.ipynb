{
  "nbformat": 4,
  "nbformat_minor": 5,
  "metadata": {
    "kernelspec": {
      "display_name": "Python 3",
      "language": "python",
      "name": "python3"
    },
    "language_info": {
      "codemirror_mode": {
        "name": "ipython",
        "version": 3
      },
      "file_extension": ".py",
      "mimetype": "text/x-python",
      "name": "python",
      "nbconvert_exporter": "python",
      "pygments_lexer": "ipython3",
      "version": "3.7.9"
    },
    "colab": {
      "name": "윤아_일치_인공지능.ipynb",
      "provenance": [],
      "include_colab_link": true
    }
  },
  "cells": [
    {
      "cell_type": "markdown",
      "metadata": {
        "id": "view-in-github",
        "colab_type": "text"
      },
      "source": [
        "<a href=\"https://colab.research.google.com/github/zzinbbang/AI/blob/master/%EC%9C%A4%EC%95%84_%EC%9D%BC%EC%B9%98_%EC%9D%B8%EA%B3%B5%EC%A7%80%EB%8A%A5.ipynb\" target=\"_parent\"><img src=\"https://colab.research.google.com/assets/colab-badge.svg\" alt=\"Open In Colab\"/></a>"
      ]
    },
    {
      "cell_type": "code",
      "metadata": {
        "id": "sexual-fighter"
      },
      "source": [
        "# !!! 반드시 주석 읽어주시기 바랍니다..\n",
        "# 부족한 코드 조언해주시면 너무 감사하겠습니다ㅋㅋㅋ"
      ],
      "id": "sexual-fighter",
      "execution_count": null,
      "outputs": []
    },
    {
      "cell_type": "markdown",
      "metadata": {
        "id": "operational-lottery"
      },
      "source": [
        "# 얼굴 알아보기!!\n",
        "\n",
        "## 이미지 웹 크롤링으로 원하는 이미지를 크롤링한 뒤,\n",
        "## 그 이미지들로 인공지능을 훈련시키고,\n",
        "## 훈련된 모델로 테스트 사진을 테스트해서\n",
        "## 훈련시킨 이미지와 일치하는지 알아봅니당."
      ],
      "id": "operational-lottery"
    },
    {
      "cell_type": "code",
      "metadata": {
        "id": "willing-webcam",
        "outputId": "e08f2692-41d9-4bf9-db37-6c861216a6f2"
      },
      "source": [
        "# 셀레니움 설치\n",
        "# https://dhznsdl.tistory.com/21\n",
        "# 위의 블로그에서 하라는대로만 하시면 됩니다~\n",
        "# 이것만 하면 반은 끝나요.\n",
        "\n",
        "!pip install selenium"
      ],
      "id": "willing-webcam",
      "execution_count": null,
      "outputs": [
        {
          "output_type": "stream",
          "text": [
            "Collecting selenium\n",
            "  Using cached selenium-3.141.0-py2.py3-none-any.whl (904 kB)\n",
            "Requirement already satisfied: urllib3 in c:\\caba2021\\5.python\\lib\\site-packages (from selenium) (1.25.11)\n",
            "Installing collected packages: selenium\n",
            "Successfully installed selenium-3.141.0\n"
          ],
          "name": "stdout"
        }
      ]
    },
    {
      "cell_type": "code",
      "metadata": {
        "id": "departmental-corrections",
        "outputId": "0c9d9a95-fcf5-4227-cc0c-0d383d5fd510"
      },
      "source": [
        "# 이거 설치 안되면 밑에 껄로 설치하시면 됩니다!\n",
        "!pip install opencv-contrib-python"
      ],
      "id": "departmental-corrections",
      "execution_count": null,
      "outputs": [
        {
          "output_type": "stream",
          "text": [
            "Collecting opencv-contrib-python\n",
            "  Downloading opencv_contrib_python-4.5.1.48-cp38-cp38-win_amd64.whl (41.2 MB)\n",
            "Requirement already satisfied: numpy>=1.17.3 in c:\\caba2021\\5.python\\lib\\site-packages (from opencv-contrib-python) (1.19.2)\n",
            "Installing collected packages: opencv-contrib-python\n"
          ],
          "name": "stdout"
        },
        {
          "output_type": "stream",
          "text": [
            "ERROR: Could not install packages due to an EnvironmentError: [WinError 5] 액세스가 거부되었습니다: 'C:\\\\caba2021\\\\5.python\\\\Lib\\\\site-packages\\\\cv2\\\\cv2.cp38-win_amd64.pyd'\n",
            "Consider using the `--user` option or check the permissions.\n",
            "\n"
          ],
          "name": "stderr"
        }
      ]
    },
    {
      "cell_type": "code",
      "metadata": {
        "id": "better-disability",
        "outputId": "abb4247c-d097-48f9-aef5-7aa1df732fbf"
      },
      "source": [
        "# 위에꺼 설치 오류나면 당황하지마시고 이걸로 설치하세용ㅋㅋ\n",
        "!pip3 install --user opencv-contrib-python"
      ],
      "id": "better-disability",
      "execution_count": null,
      "outputs": [
        {
          "output_type": "stream",
          "text": [
            "Collecting opencv-contrib-python\n",
            "  Using cached opencv_contrib_python-4.5.1.48-cp38-cp38-win_amd64.whl (41.2 MB)\n",
            "Requirement already satisfied: numpy>=1.17.3 in c:\\caba2021\\5.python\\lib\\site-packages (from opencv-contrib-python) (1.19.2)\n",
            "Installing collected packages: opencv-contrib-python\n",
            "Successfully installed opencv-contrib-python-4.5.1.48\n"
          ],
          "name": "stdout"
        }
      ]
    },
    {
      "cell_type": "markdown",
      "metadata": {
        "id": "given-equipment"
      },
      "source": [
        "# 아래코드 라인 9,23 수정하셔야해요~ 폴더 만드는 거 잊지마세요!"
      ],
      "id": "given-equipment"
    },
    {
      "cell_type": "code",
      "metadata": {
        "scrolled": true,
        "id": "german-circuit",
        "outputId": "0d59ad80-c1bc-4ce6-cca2-2f87c4c8ee34"
      },
      "source": [
        "from selenium import webdriver\n",
        "from selenium.webdriver.common.keys import Keys\n",
        "import time\n",
        "import urllib.request\n",
        "\n",
        "driver = webdriver.Chrome() # 크롬을 자동으로 켜란 코드입니다.\n",
        "driver.get(\"https://www.google.co.kr/imghp?hl=ko\") # 구글 한국어로 접속해라\n",
        "elem = driver.find_element_by_name(\"q\") # 이거는 f12누르면 나오는 개발자툴이라 모르셔도 됩니당.\n",
        "elem.send_keys(\"윤아\") # 여기에 \"윤아\"대신에 검색하고싶은 걸 입력하세요~!\n",
        "elem.send_keys(Keys.RETURN) # 엔터를 치고 이미지를 검색해라!\n",
        "\n",
        "for i in range(0,300): # 다운 받을 이미지의 개수를 정하세요!\n",
        "                         # 범위는 200장 말고도 맘대로 넣으세요. \n",
        "                         # 다운 받은 이미지들로 인공지능을 학습시킬겁니다.\n",
        "                         # 그러니 최소 한...100장은 정도만 추천해요\n",
        "                         # 100장이 넘어가니 다른 이미지들이 섞이네요\n",
        "                         # 그리고 에러날 수도 있어요.\n",
        "    driver.find_elements_by_css_selector(\".rg_i.Q4LuWd\")[i].click()\n",
        "    #elements 중에서(리스트) i번째꺼를 꺼낼거니 [i]을 붙여줌\n",
        "    time.sleep(3) #3초 지연\n",
        "    imgUrl = driver.find_element_by_css_selector(\".n3VNCb\").get_attribute(\"src\")\n",
        "    #큰 사진의 src주소를 새로운 변수에 저장. src주소를 알면 이미지 저장 가능\n",
        "    urllib.request.urlretrieve(imgUrl, \"./yoona/{}.jpg\".format(i))\n",
        "    # 현재 주피터 노트북 실행 폴터에 yoona대신 암꺼나 폴더\n",
        "    # 하나 만들어주세요  그 폴더명을 yoona 대신 넣으세요.\n",
        "    # 자동 폴더 생성까지는 어케하는지 몰라여...\n",
        "    #사진을 i.jpg라는 이름으로 저장\n",
        "    \n",
        "# !!! 가끔 에러가 나기도 합니다.\n",
        "# 그래도 상관없어요 충분한 사진을 다운받았으면 그냥 하시면 됩니다.\n",
        "# 50장 미만으로 다운받았는데 에러나면 다시 해보시는 게 좋아요"
      ],
      "id": "german-circuit",
      "execution_count": null,
      "outputs": [
        {
          "output_type": "error",
          "ename": "KeyboardInterrupt",
          "evalue": "",
          "traceback": [
            "\u001b[1;31m---------------------------------------------------------------------------\u001b[0m",
            "\u001b[1;31mKeyboardInterrupt\u001b[0m                         Traceback (most recent call last)",
            "\u001b[1;32m<ipython-input-1-2a792f1f78ac>\u001b[0m in \u001b[0;36m<module>\u001b[1;34m\u001b[0m\n\u001b[0;32m     18\u001b[0m     \u001b[0mdriver\u001b[0m\u001b[1;33m.\u001b[0m\u001b[0mfind_elements_by_css_selector\u001b[0m\u001b[1;33m(\u001b[0m\u001b[1;34m\".rg_i.Q4LuWd\"\u001b[0m\u001b[1;33m)\u001b[0m\u001b[1;33m[\u001b[0m\u001b[0mi\u001b[0m\u001b[1;33m]\u001b[0m\u001b[1;33m.\u001b[0m\u001b[0mclick\u001b[0m\u001b[1;33m(\u001b[0m\u001b[1;33m)\u001b[0m\u001b[1;33m\u001b[0m\u001b[1;33m\u001b[0m\u001b[0m\n\u001b[0;32m     19\u001b[0m     \u001b[1;31m#elements 중에서(리스트) i번째꺼를 꺼낼거니 [i]을 붙여줌\u001b[0m\u001b[1;33m\u001b[0m\u001b[1;33m\u001b[0m\u001b[1;33m\u001b[0m\u001b[0m\n\u001b[1;32m---> 20\u001b[1;33m     \u001b[0mtime\u001b[0m\u001b[1;33m.\u001b[0m\u001b[0msleep\u001b[0m\u001b[1;33m(\u001b[0m\u001b[1;36m3\u001b[0m\u001b[1;33m)\u001b[0m \u001b[1;31m#3초 지연\u001b[0m\u001b[1;33m\u001b[0m\u001b[1;33m\u001b[0m\u001b[0m\n\u001b[0m\u001b[0;32m     21\u001b[0m     \u001b[0mimgUrl\u001b[0m \u001b[1;33m=\u001b[0m \u001b[0mdriver\u001b[0m\u001b[1;33m.\u001b[0m\u001b[0mfind_element_by_css_selector\u001b[0m\u001b[1;33m(\u001b[0m\u001b[1;34m\".n3VNCb\"\u001b[0m\u001b[1;33m)\u001b[0m\u001b[1;33m.\u001b[0m\u001b[0mget_attribute\u001b[0m\u001b[1;33m(\u001b[0m\u001b[1;34m\"src\"\u001b[0m\u001b[1;33m)\u001b[0m\u001b[1;33m\u001b[0m\u001b[1;33m\u001b[0m\u001b[0m\n\u001b[0;32m     22\u001b[0m     \u001b[1;31m#큰 사진의 src주소를 새로운 변수에 저장. src주소를 알면 이미지 저장 가능\u001b[0m\u001b[1;33m\u001b[0m\u001b[1;33m\u001b[0m\u001b[1;33m\u001b[0m\u001b[0m\n",
            "\u001b[1;31mKeyboardInterrupt\u001b[0m: "
          ]
        }
      ]
    },
    {
      "cell_type": "markdown",
      "metadata": {
        "id": "approximate-damages"
      },
      "source": [
        "# 아래 코드 라인 12,14 수정하셔야합니다! 폴더만드는 거 잊지마세요!"
      ],
      "id": "approximate-damages"
    },
    {
      "cell_type": "code",
      "metadata": {
        "id": "connected-anderson",
        "outputId": "cd81b24e-e61a-41fd-ca20-5b97a46ff2fc"
      },
      "source": [
        "import numpy as np\n",
        "import cv2\n",
        "import os, glob\n",
        "\n",
        "\n",
        "# 얼굴 인식용 xml 파일\n",
        "face_cascade = cv2.CascadeClassifier(\n",
        "    'haarcascades/haarcascade_frontalface_default.xml')\n",
        "\n",
        "\n",
        "# 이미지가 있는 디렉토리\n",
        "dir_path = './yoona/' # 위에서 만든 폴더명을 입력하세요.\n",
        "file_list = os.listdir(dir_path)\n",
        "face_dir_path = './yoona_face/yoona_0'\n",
        "# 이번에도 yoona_face대신에 폴더 하나 만드세요 대신에 _face를 붙여주세요.\n",
        "# 그 폴더 하위에 yoona_0에서 yoona만 바꿔서 폴더 또 만들어주세요!\n",
        "\n",
        "# 전체 사진에서 얼굴 부위만 잘라내어 저장하기\n",
        "for i in range(len(file_list)):\n",
        "    img = cv2.imread(dir_path + '/{}.jpg'.format(i))\n",
        "    # img = cv2.imread(dir_path + '/' + str(i+1) + '.jpg') 지윤씨 수정\n",
        "    # 위코드에서 에서 라인12번의 range를 1부터 시작했으면 지윤씨처럼 해야합니다.\n",
        "    gray = cv2.cvtColor(img, cv2.COLOR_BGR2GRAY)\n",
        "    faces = face_cascade.detectMultiScale(gray)\n",
        "    for (x, y, w, h) in faces:\n",
        "        roi = gray[y:y+h, x:x+w]\n",
        "        face = cv2.resize(roi, (200, 200))\n",
        "        cv2.imshow('face', face)\n",
        "        cv2.waitKey(50)\n",
        "        file_name_path = face_dir_path + '/' + str(i+1) + '.jpg'\n",
        "        cv2.imwrite(file_name_path, face)\n",
        "\n",
        "cv2.waitKey(0)\n",
        "cv2.destroyAllWindows\n",
        "# 그레이로 저장 끝\n",
        "# 에러나서 커널이 죽기도 합니다!!\n",
        "# 당황하지 마시고 그냥 다시 셧다운 하셨다가 키셔서\n",
        "# 여기 다음부터 수행하시면 됩니다~"
      ],
      "id": "connected-anderson",
      "execution_count": null,
      "outputs": [
        {
          "output_type": "error",
          "ename": "KeyboardInterrupt",
          "evalue": "",
          "traceback": [
            "\u001b[1;31m---------------------------------------------------------------------------\u001b[0m",
            "\u001b[1;31mKeyboardInterrupt\u001b[0m                         Traceback (most recent call last)",
            "\u001b[1;32m<ipython-input-1-b0db07b8b5aa>\u001b[0m in \u001b[0;36m<module>\u001b[1;34m\u001b[0m\n\u001b[0;32m     18\u001b[0m \u001b[1;31m# 전체 사진에서 얼굴 부위만 잘라내어 저장하기\u001b[0m\u001b[1;33m\u001b[0m\u001b[1;33m\u001b[0m\u001b[1;33m\u001b[0m\u001b[0m\n\u001b[0;32m     19\u001b[0m \u001b[1;32mfor\u001b[0m \u001b[0mi\u001b[0m \u001b[1;32min\u001b[0m \u001b[0mrange\u001b[0m\u001b[1;33m(\u001b[0m\u001b[0mlen\u001b[0m\u001b[1;33m(\u001b[0m\u001b[0mfile_list\u001b[0m\u001b[1;33m)\u001b[0m\u001b[1;33m)\u001b[0m\u001b[1;33m:\u001b[0m\u001b[1;33m\u001b[0m\u001b[1;33m\u001b[0m\u001b[0m\n\u001b[1;32m---> 20\u001b[1;33m     \u001b[0mimg\u001b[0m \u001b[1;33m=\u001b[0m \u001b[0mcv2\u001b[0m\u001b[1;33m.\u001b[0m\u001b[0mimread\u001b[0m\u001b[1;33m(\u001b[0m\u001b[0mdir_path\u001b[0m \u001b[1;33m+\u001b[0m \u001b[1;34m'/{}.jpg'\u001b[0m\u001b[1;33m.\u001b[0m\u001b[0mformat\u001b[0m\u001b[1;33m(\u001b[0m\u001b[0mi\u001b[0m\u001b[1;33m)\u001b[0m\u001b[1;33m)\u001b[0m\u001b[1;33m\u001b[0m\u001b[1;33m\u001b[0m\u001b[0m\n\u001b[0m\u001b[0;32m     21\u001b[0m \u001b[1;33m\u001b[0m\u001b[0m\n\u001b[0;32m     22\u001b[0m     \u001b[0mgray\u001b[0m \u001b[1;33m=\u001b[0m \u001b[0mcv2\u001b[0m\u001b[1;33m.\u001b[0m\u001b[0mcvtColor\u001b[0m\u001b[1;33m(\u001b[0m\u001b[0mimg\u001b[0m\u001b[1;33m,\u001b[0m \u001b[0mcv2\u001b[0m\u001b[1;33m.\u001b[0m\u001b[0mCOLOR_BGR2GRAY\u001b[0m\u001b[1;33m)\u001b[0m\u001b[1;33m\u001b[0m\u001b[1;33m\u001b[0m\u001b[0m\n",
            "\u001b[1;31mKeyboardInterrupt\u001b[0m: "
          ]
        }
      ]
    },
    {
      "cell_type": "markdown",
      "metadata": {
        "id": "equipped-retail"
      },
      "source": [
        "# 아래 코드 라인 4, 30 수정하셔야해요!"
      ],
      "id": "equipped-retail"
    },
    {
      "cell_type": "code",
      "metadata": {
        "id": "formal-carbon",
        "outputId": "8d0ba15b-50ef-4e31-db6a-5b993a681a04"
      },
      "source": [
        "import numpy as np, cv2\n",
        "import os, glob\n",
        "\n",
        "base_dir = './yoona_face' # 위에서 만든 '_face'이름 넣어주세요.\n",
        "train_data, train_labels = [], []\n",
        "dirs = [d for d in glob.glob(base_dir+'/*') if os.path.isdir(d)]\n",
        "# os.path.isdir(d)는 무조건 폴더여야한다.\n",
        "print('Collecting train data set:')\n",
        "\n",
        "for dir in dirs:\n",
        "    # name_id 형식에서 id를 분리합니다.\n",
        "    id = dir[-1]\n",
        "    files = glob.glob(dir + '/*.jpg')\n",
        "    print('\\t path:{}, {}files'.format(dir, len(files)))\n",
        "    for file in files:\n",
        "        img = cv2.imread(file, cv2.IMREAD_GRAYSCALE)\n",
        "        # 이미지는 train_data, 아이디는 train_labels에 저장해요\n",
        "        train_data.append(np.asarray(img, dtype=np.uint8))\n",
        "        train_labels.append(int(id))\n",
        "\n",
        "# Numpy 배열로 변환합니다.\n",
        "train_data = np.asarray(train_data)\n",
        "train_labels = np.int32(train_labels)\n",
        "\n",
        "\n",
        "# LBP 얼굴 인식기 생성 및 훈련!!\n",
        "print('Starting LBP Model training...')\n",
        "model = cv2.face.LBPHFaceRecognizer_create()\n",
        "model.train(train_data, train_labels)\n",
        "model.write('./yoona_face/yoona_face.xml')\n",
        "# 위에서 만든 _face폴더와 yoona_face.xml에서 \n",
        "# yoona를 지우고 맘대로 이름 지어주세요\n",
        "print('Model trained successfully!')\n",
        "# 여러분이 만든 xml파일로 인공지능을 훈련시킬겁니다."
      ],
      "id": "formal-carbon",
      "execution_count": null,
      "outputs": [
        {
          "output_type": "stream",
          "text": [
            "Collecting train data set:\n",
            "\t path:./yoona_face\\yoona_0, 185files\n",
            "Starting LBP Model training...\n",
            "Model trained successfully!\n"
          ],
          "name": "stdout"
        }
      ]
    },
    {
      "cell_type": "markdown",
      "metadata": {
        "id": "informed-mystery"
      },
      "source": [
        "# 라인 4,9,20 수정하셔야해요!"
      ],
      "id": "informed-mystery"
    },
    {
      "cell_type": "code",
      "metadata": {
        "id": "divided-capitol",
        "outputId": "b38aba0e-a855-4311-d9d1-396f4c89ca8b"
      },
      "source": [
        "import numpy as np, cv2\n",
        "import os, glob\n",
        "\n",
        "base_dir = './yoona_face/' # 어케 하시는지 아시죠...?ㅋㅋㅋ\n",
        "min_accuracy = 85\n",
        "# LBP 얼굴 인식기 및 캐스케이드 얼굴 검출기 생성 및 훈련 모델 읽기\n",
        "face_classifier = cv2.CascadeClassifier('haarcascades/haarcascade_frontalface_default.xml')\n",
        "model = cv2.face.LBPHFaceRecognizer_create()\n",
        "model.read(os.path.join(base_dir, 'yoona_face.xml')) # 여기도 아시죠??\n",
        "\n",
        "# 디렉터리 이름으로 사용자 이름과 아이디 매핑 정보 생성\n",
        "dirs = [d for d in glob.glob(base_dir+'/*') if os.path.isdir(d)]\n",
        "names = dict([])\n",
        "\n",
        "for dir in dirs:\n",
        "    dir = os.path.basename(dir)\n",
        "    name, id = dir.split('_')\n",
        "    names[int(id)] = name\n",
        "\n",
        "input_img = cv2.imread('./yoona_face/10.jpg') # '_face'폴더에 jpg파일로 이름을\n",
        "                                             # 넣어주세요 저는 그냥 편하게 1로 했어요.\n",
        "gray = cv2.cvtColor(input_img, cv2.COLOR_BGR2GRAY, 1.3, 5)\n",
        "\n",
        "# 얼굴 검출\n",
        "faces = face_classifier.detectMultiScale(gray)\n",
        "for (x, y, w, h) in faces:\n",
        "    # 얼굴 영역을 표시하고 샘플과 같은 크기로 축소\n",
        "    cv2.rectangle(input_img, (x, y), (x+w, y+h), (0, 255, 255), 2)\n",
        "    face = input_img[y:y+h, x:x+w]\n",
        "    face = cv2.resize(face, (200, 200))\n",
        "    face = cv2.cvtColor(face, cv2.COLOR_BGR2GRAY)\n",
        "    # LBP 얼굴 인식기로 예측\n",
        "    label, confidence = model.predict(face)\n",
        "    if confidence < 400:\n",
        "        # 정확도 거리를 퍼센트로 변환\n",
        "        accuracy = int(100 * (1 - confidence/400))\n",
        "        if accuracy >= min_accuracy:    # 정확도가 85% 이상이면\n",
        "            msg = '{}-({:.0f}%)-recognized'.format(names[label], accuracy)\n",
        "        else:\n",
        "            msg = '({:.0f}%)-Unknown'.format(accuracy)\n",
        "\n",
        "    # 사용자 이름과 정확도 결과 출력\n",
        "    txt, base = cv2.getTextSize(msg, cv2.FONT_HERSHEY_PLAIN, 1, 3)\n",
        "    cv2.rectangle(input_img, (x, y-base-txt[1]), (x+txt[0], y+txt[1]),\n",
        "                  (0, 255, 255), -1)\n",
        "    cv2.putText(input_img, msg, (x, y), cv2.FONT_HERSHEY_PLAIN, 1,\n",
        "                (0, 0, 255), 2, cv2.LINE_AA)\n",
        "\n",
        "cv2.imshow('Face Recognition', input_img)\n",
        "cv2.waitKey(0)\n",
        "cv2.destroyWindow()\n",
        "\n",
        "# 반드시 종료할 때는 새로 뜨는 폴더의 X(종료)버튼을 마우스로\n",
        "# 클릭해주세요! 안그러면 커널이 죽습니다.. 이거 해결 좀 아시면 부탁드려요..."
      ],
      "id": "divided-capitol",
      "execution_count": null,
      "outputs": [
        {
          "output_type": "error",
          "ename": "TypeError",
          "evalue": "destroyWindow() missing required argument 'winname' (pos 1)",
          "traceback": [
            "\u001b[1;31m---------------------------------------------------------------------------\u001b[0m",
            "\u001b[1;31mTypeError\u001b[0m                                 Traceback (most recent call last)",
            "\u001b[1;32m<ipython-input-34-cf3b5b2a45d4>\u001b[0m in \u001b[0;36m<module>\u001b[1;34m\u001b[0m\n\u001b[0;32m     49\u001b[0m \u001b[0mcv2\u001b[0m\u001b[1;33m.\u001b[0m\u001b[0mimshow\u001b[0m\u001b[1;33m(\u001b[0m\u001b[1;34m'Face Recognition'\u001b[0m\u001b[1;33m,\u001b[0m \u001b[0minput_img\u001b[0m\u001b[1;33m)\u001b[0m\u001b[1;33m\u001b[0m\u001b[1;33m\u001b[0m\u001b[0m\n\u001b[0;32m     50\u001b[0m \u001b[0mcv2\u001b[0m\u001b[1;33m.\u001b[0m\u001b[0mwaitKey\u001b[0m\u001b[1;33m(\u001b[0m\u001b[1;36m0\u001b[0m\u001b[1;33m)\u001b[0m\u001b[1;33m\u001b[0m\u001b[1;33m\u001b[0m\u001b[0m\n\u001b[1;32m---> 51\u001b[1;33m \u001b[0mcv2\u001b[0m\u001b[1;33m.\u001b[0m\u001b[0mdestroyWindow\u001b[0m\u001b[1;33m(\u001b[0m\u001b[1;33m)\u001b[0m\u001b[1;33m\u001b[0m\u001b[1;33m\u001b[0m\u001b[0m\n\u001b[0m\u001b[0;32m     52\u001b[0m \u001b[1;33m\u001b[0m\u001b[0m\n\u001b[0;32m     53\u001b[0m \u001b[1;31m# 반드시 종료할 때는 새로 뜨는 폴더의 X(종료)버튼을 마우스로\u001b[0m\u001b[1;33m\u001b[0m\u001b[1;33m\u001b[0m\u001b[1;33m\u001b[0m\u001b[0m\n",
            "\u001b[1;31mTypeError\u001b[0m: destroyWindow() missing required argument 'winname' (pos 1)"
          ]
        }
      ]
    },
    {
      "cell_type": "markdown",
      "metadata": {
        "id": "graduate-classic"
      },
      "source": [
        "![KakaoTalk_20210319_224808251.png](attachment:KakaoTalk_20210319_224808251.png)"
      ],
      "id": "graduate-classic"
    },
    {
      "cell_type": "code",
      "metadata": {
        "id": "mighty-abraham"
      },
      "source": [
        ""
      ],
      "id": "mighty-abraham",
      "execution_count": null,
      "outputs": []
    },
    {
      "cell_type": "code",
      "metadata": {
        "id": "employed-blackberry"
      },
      "source": [
        ""
      ],
      "id": "employed-blackberry",
      "execution_count": null,
      "outputs": []
    }
  ]
}