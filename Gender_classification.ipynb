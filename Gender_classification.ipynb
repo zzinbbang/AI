{
 "cells": [
  {
   "cell_type": "code",
   "execution_count": 42,
   "metadata": {
    "colab": {},
    "colab_type": "code",
    "id": "C-bcIr3sZRve"
   },
   "outputs": [],
   "source": [
    "import pandas as pd, numpy as np\n",
    "import h5py\n",
    "import matplotlib.pyplot as plt\n",
    "from skimage import io"
   ]
  },
  {
   "cell_type": "markdown",
   "metadata": {},
   "source": [
    "## gender_data파일을 불러온다.\n",
    "\n",
    "---\n",
    "\n",
    "64000여개의 사진에 대한 성별과 사진 url이 들어있다. (용량 문제)\n",
    "\n",
    "\n",
    "메모리나 시간 관계상 2000개의 데이터만 사용할 것이나 많이 사용할 수록 성능은 향상될 것이다."
   ]
  },
  {
   "cell_type": "code",
   "execution_count": 4,
   "metadata": {
    "colab": {
     "base_uri": "https://localhost:8080/",
     "height": 224
    },
    "colab_type": "code",
    "id": "9vFaOE_-ZUI-",
    "outputId": "a22b5e46-4666-4f64-91c3-e500fa37c312",
    "scrolled": true
   },
   "outputs": [
    {
     "data": {
      "text/html": [
       "<div>\n",
       "<style scoped>\n",
       "    .dataframe tbody tr th:only-of-type {\n",
       "        vertical-align: middle;\n",
       "    }\n",
       "\n",
       "    .dataframe tbody tr th {\n",
       "        vertical-align: top;\n",
       "    }\n",
       "\n",
       "    .dataframe thead th {\n",
       "        text-align: right;\n",
       "    }\n",
       "</style>\n",
       "<table border=\"1\" class=\"dataframe\">\n",
       "  <thead>\n",
       "    <tr style=\"text-align: right;\">\n",
       "      <th></th>\n",
       "      <th>_unit_id</th>\n",
       "      <th>sex</th>\n",
       "      <th>image_url</th>\n",
       "    </tr>\n",
       "  </thead>\n",
       "  <tbody>\n",
       "    <tr>\n",
       "      <th>0</th>\n",
       "      <td>1023132475</td>\n",
       "      <td>male</td>\n",
       "      <td>https://d1qb2nb5cznatu.cloudfront.net/users/40...</td>\n",
       "    </tr>\n",
       "    <tr>\n",
       "      <th>1</th>\n",
       "      <td>1023132476</td>\n",
       "      <td>male</td>\n",
       "      <td>https://d1qb2nb5cznatu.cloudfront.net/users/42...</td>\n",
       "    </tr>\n",
       "    <tr>\n",
       "      <th>2</th>\n",
       "      <td>1023132477</td>\n",
       "      <td>male</td>\n",
       "      <td>https://d1qb2nb5cznatu.cloudfront.net/users/44...</td>\n",
       "    </tr>\n",
       "    <tr>\n",
       "      <th>3</th>\n",
       "      <td>1023132478</td>\n",
       "      <td>male</td>\n",
       "      <td>https://d1qb2nb5cznatu.cloudfront.net/users/47...</td>\n",
       "    </tr>\n",
       "    <tr>\n",
       "      <th>4</th>\n",
       "      <td>1023132479</td>\n",
       "      <td>male</td>\n",
       "      <td>https://d1qb2nb5cznatu.cloudfront.net/users/50...</td>\n",
       "    </tr>\n",
       "  </tbody>\n",
       "</table>\n",
       "</div>"
      ],
      "text/plain": [
       "     _unit_id   sex                                          image_url\n",
       "0  1023132475  male  https://d1qb2nb5cznatu.cloudfront.net/users/40...\n",
       "1  1023132476  male  https://d1qb2nb5cznatu.cloudfront.net/users/42...\n",
       "2  1023132477  male  https://d1qb2nb5cznatu.cloudfront.net/users/44...\n",
       "3  1023132478  male  https://d1qb2nb5cznatu.cloudfront.net/users/47...\n",
       "4  1023132479  male  https://d1qb2nb5cznatu.cloudfront.net/users/50..."
      ]
     },
     "execution_count": 4,
     "metadata": {},
     "output_type": "execute_result"
    }
   ],
   "source": [
    "data = pd.read_csv('gender_data.csv')\n",
    "data.head()"
   ]
  },
  {
   "cell_type": "markdown",
   "metadata": {},
   "source": [
    "## 데이터에는 남성/여성/불확실 3가지가 있으나 모델링에는 남,녀만 사용할 것이다."
   ]
  },
  {
   "cell_type": "code",
   "execution_count": 5,
   "metadata": {
    "colab": {
     "base_uri": "https://localhost:8080/",
     "height": 85
    },
    "colab_type": "code",
    "id": "Oc6o9sHHgnUc",
    "outputId": "5796b3c7-eb9c-4960-9bff-f8bf496c7937"
   },
   "outputs": [
    {
     "data": {
      "text/plain": [
       "male      47595\n",
       "unsure     9122\n",
       "female     7367\n",
       "Name: sex, dtype: int64"
      ]
     },
     "execution_count": 5,
     "metadata": {},
     "output_type": "execute_result"
    }
   ],
   "source": [
    "data['sex'].value_counts()"
   ]
  },
  {
   "cell_type": "markdown",
   "metadata": {},
   "source": [
    "## 남성, 여성 데이터를 각각 저장한다."
   ]
  },
  {
   "cell_type": "code",
   "execution_count": 6,
   "metadata": {
    "colab": {},
    "colab_type": "code",
    "id": "cOhxMhKwiFim"
   },
   "outputs": [],
   "source": [
    "male_df = data[data['sex']==\"male\"].reset_index(drop='index')\n",
    "female_df = data[data['sex']==\"female\"].reset_index(drop='index')"
   ]
  },
  {
   "cell_type": "code",
   "execution_count": 7,
   "metadata": {
    "colab": {
     "base_uri": "https://localhost:8080/",
     "height": 34
    },
    "colab_type": "code",
    "id": "rB3ofIuxiPPG",
    "outputId": "a1bf5a3a-dfb6-4f50-fdcd-909df35f9f90"
   },
   "outputs": [
    {
     "data": {
      "text/plain": [
       "(2000, 3)"
      ]
     },
     "execution_count": 7,
     "metadata": {},
     "output_type": "execute_result"
    }
   ],
   "source": [
    "sex_data = pd.concat([male_df[:1000],female_df[:1000]],axis=0).reset_index(drop='index')\n",
    "sex_data.shape"
   ]
  },
  {
   "cell_type": "markdown",
   "metadata": {
    "colab": {
     "base_uri": "https://localhost:8080/",
     "height": 204
    },
    "colab_type": "code",
    "id": "Ua3xlzn4iZf-",
    "outputId": "bf8f1d75-1404-41dd-a896-d871f922756d"
   },
   "source": [
    "## 2000개의 사진의 url을 통해 실제 이미지를 가져와 저장한다.\n",
    "\n",
    "---\n",
    "\n",
    "이 때 300 * 300 pixel의 사진만 사용할 것이며 컬러사진만 모델에 훈련시킬 것이다."
   ]
  },
  {
   "cell_type": "code",
   "execution_count": 8,
   "metadata": {
    "colab": {
     "base_uri": "https://localhost:8080/",
     "height": 357
    },
    "colab_type": "code",
    "id": "kGfRh51iZaBX",
    "outputId": "f0b16281-4c0b-4041-88ea-851455fdd332"
   },
   "outputs": [
    {
     "name": "stdout",
     "output_type": "stream",
     "text": [
      "0\n",
      "100\n",
      "200\n",
      "300\n",
      "400\n",
      "500\n",
      "600\n",
      "700\n",
      "800\n",
      "900\n",
      "1000\n",
      "1100\n",
      "1200\n",
      "1300\n",
      "1400\n",
      "1500\n",
      "1600\n",
      "1700\n",
      "1800\n",
      "1900\n"
     ]
    }
   ],
   "source": [
    "features = []\n",
    "targets = []\n",
    "for i in range(sex_data.shape[0]):\n",
    "    if(i%100==0):\n",
    "        print(i)\n",
    "    try:\n",
    "        image = io.imread(sex_data.loc[i]['image_url']) #sklearn image의 io 패키지를 사용해 이미지를 url로부터 불러온다.\n",
    "        if(image.shape==(300,300,3)): # 300*300은 이미지 사이즈를 3은 channel로 컬러이미지를 뜻한다.(1은 흑백)\n",
    "            features.append(image)\n",
    "            targets.append(sex_data.loc[i]['sex'])\n",
    "    except :# 조건을 만족하지 않는 이미지는 사용하지 않는다.\n",
    "        continue"
   ]
  },
  {
   "cell_type": "code",
   "execution_count": 9,
   "metadata": {
    "colab": {
     "base_uri": "https://localhost:8080/",
     "height": 331
    },
    "colab_type": "code",
    "id": "xTJvUiKE4QKZ",
    "outputId": "238b70b7-e091-48f3-ffc4-539d1f368e0f"
   },
   "outputs": [],
   "source": [
    "import matplotlib.pyplot as plt\n",
    "%matplotlib inline"
   ]
  },
  {
   "cell_type": "markdown",
   "metadata": {},
   "source": [
    "## 불러온 이미지를  imshow 함수를 이용해 간단하게 확인."
   ]
  },
  {
   "cell_type": "code",
   "execution_count": 10,
   "metadata": {
    "scrolled": true
   },
   "outputs": [
    {
     "name": "stderr",
     "output_type": "stream",
     "text": [
      "c:\\users\\anary\\appdata\\local\\programs\\python\\python36\\lib\\site-packages\\matplotlib\\cbook\\__init__.py:424: MatplotlibDeprecationWarning: \n",
      "Passing one of 'on', 'true', 'off', 'false' as a boolean is deprecated; use an actual boolean (True/False) instead.\n",
      "  warn_deprecated(\"2.2\", \"Passing one of 'on', 'true', 'off', 'false' as a \"\n"
     ]
    },
    {
     "data": {
      "image/png": "[encoded data removed]",
      "text/plain": [
       "<Figure size 432x288 with 4 Axes>"
      ]
     },
     "metadata": {
      "needs_background": "light"
     },
     "output_type": "display_data"
    }
   ],
   "source": [
    "plt.subplot(221)\n",
    "plt.imshow(features[0])\n",
    "plt.title('Male images')\n",
    "plt.grid('off')\n",
    "plt.subplot(222)\n",
    "plt.title('Female images')\n",
    "plt.imshow(features[1000])\n",
    "plt.grid('off')\n",
    "plt.subplot(223)\n",
    "plt.imshow(features[1])\n",
    "plt.grid('off')\n",
    "plt.subplot(224)\n",
    "plt.imshow(features[1001])\n",
    "plt.grid('off')\n",
    "plt.show()"
   ]
  },
  {
   "cell_type": "markdown",
   "metadata": {},
   "source": [
    "## 불러온 데이터들은 50 * 50 크기로 리사이즈할 것이며, 그레이 컬러로 변환해 학습시킨다."
   ]
  },
  {
   "cell_type": "code",
   "execution_count": 27,
   "metadata": {},
   "outputs": [],
   "source": [
    "import cv2"
   ]
  },
  {
   "cell_type": "code",
   "execution_count": 28,
   "metadata": {
    "colab": {},
    "colab_type": "code",
    "id": "aizzkTntdOEq"
   },
   "outputs": [],
   "source": [
    "feature = []\n",
    "target = []\n",
    "for i in range(len(features)):\n",
    "    img = cv2.cvtColor(features[i], cv2.COLOR_BGR2GRAY)\n",
    "    img2 = cv2.resize(img,(50,50))\n",
    "    feature.append(img2)\n",
    "    img_label = np.where(targets[i]==\"male\",1,0)\n",
    "    target.append(img_label)"
   ]
  },
  {
   "cell_type": "markdown",
   "metadata": {},
   "source": [
    "## Keras를 이용해 CNN 모델을 구현한다. "
   ]
  },
  {
   "cell_type": "code",
   "execution_count": 30,
   "metadata": {
    "colab": {},
    "colab_type": "code",
    "id": "zi06Op09dkDT"
   },
   "outputs": [
    {
     "name": "stderr",
     "output_type": "stream",
     "text": [
      "Using TensorFlow backend.\n"
     ]
    }
   ],
   "source": [
    "from keras.layers import Conv2D, MaxPooling2D, Flatten, Dense\n",
    "from keras.models import Sequential"
   ]
  },
  {
   "cell_type": "code",
   "execution_count": 31,
   "metadata": {
    "colab": {},
    "colab_type": "code",
    "id": "4XHW_7Hmd_4U"
   },
   "outputs": [],
   "source": [
    "feature = np.array(feature)"
   ]
  },
  {
   "cell_type": "markdown",
   "metadata": {},
   "source": [
    "## 모델설명\n",
    "\n",
    "---\n",
    "\n",
    "모델은 4개의 Convolution layer, pooling layer를 가지며 뽑아낸 특징으로 단층 FNN(Feedfoward Neural Network, node num=100)에 넣어 최종 성별을 구분하는 모델이다. 활성화함수는 relu를 사용하였으며 마지막 output을 구하는 층은 sigmoid를 사용하였다. "
   ]
  },
  {
   "cell_type": "code",
   "execution_count": 32,
   "metadata": {
    "colab": {},
    "colab_type": "code",
    "id": "KbDmxDySgOCD"
   },
   "outputs": [],
   "source": [
    "feature = feature.reshape(feature.shape[0],feature.shape[1],feature.shape[2],1)"
   ]
  },
  {
   "cell_type": "code",
   "execution_count": 33,
   "metadata": {
    "colab": {
     "base_uri": "https://localhost:8080/",
     "height": 476
    },
    "colab_type": "code",
    "id": "kqOHLn7EddXy",
    "outputId": "5938cab7-1852-413e-a6c8-27e29d9b7190",
    "scrolled": true
   },
   "outputs": [
    {
     "name": "stdout",
     "output_type": "stream",
     "text": [
      "WARNING:tensorflow:From c:\\users\\anary\\appdata\\local\\programs\\python\\python36\\lib\\site-packages\\tensorflow\\python\\framework\\op_def_library.py:263: colocate_with (from tensorflow.python.framework.ops) is deprecated and will be removed in a future version.\n",
      "Instructions for updating:\n",
      "Colocations handled automatically by placer.\n",
      "_________________________________________________________________\n",
      "Layer (type)                 Output Shape              Param #   \n",
      "=================================================================\n",
      "conv2d_1 (Conv2D)            (None, 48, 48, 64)        640       \n",
      "_________________________________________________________________\n",
      "max_pooling2d_1 (MaxPooling2 (None, 9, 9, 64)          0         \n",
      "_________________________________________________________________\n",
      "conv2d_2 (Conv2D)            (None, 9, 9, 128)         73856     \n",
      "_________________________________________________________________\n",
      "max_pooling2d_2 (MaxPooling2 (None, 4, 4, 128)         0         \n",
      "_________________________________________________________________\n",
      "conv2d_3 (Conv2D)            (None, 4, 4, 256)         295168    \n",
      "_________________________________________________________________\n",
      "max_pooling2d_3 (MaxPooling2 (None, 2, 2, 256)         0         \n",
      "_________________________________________________________________\n",
      "conv2d_4 (Conv2D)            (None, 2, 2, 512)         1180160   \n",
      "_________________________________________________________________\n",
      "flatten_1 (Flatten)          (None, 2048)              0         \n",
      "_________________________________________________________________\n",
      "dense_1 (Dense)              (None, 100)               204900    \n",
      "_________________________________________________________________\n",
      "dense_2 (Dense)              (None, 1)                 101       \n",
      "=================================================================\n",
      "Total params: 1,754,825\n",
      "Trainable params: 1,754,825\n",
      "Non-trainable params: 0\n",
      "_________________________________________________________________\n"
     ]
    }
   ],
   "source": [
    "model = Sequential()\n",
    "model.add(Conv2D(64, kernel_size=(3, 3), activation='relu',input_shape=(50,50,1)))\n",
    "model.add(MaxPooling2D(pool_size=(5, 5)))\n",
    "model.add(Conv2D(128, kernel_size=(3, 3), activation='relu',padding='same'))\n",
    "model.add(MaxPooling2D(pool_size=(2, 2)))\n",
    "model.add(Conv2D(256, kernel_size=(3, 3), activation='relu',padding='same'))\n",
    "model.add(MaxPooling2D(pool_size=(2, 2)))\n",
    "model.add(Conv2D(512, kernel_size=(3, 3), activation='relu',padding='same'))\n",
    "model.add(Flatten())\n",
    "model.add(Dense(100, activation='relu'))\n",
    "model.add(Dense(1, activation='sigmoid'))\n",
    "model.summary()"
   ]
  },
  {
   "cell_type": "markdown",
   "metadata": {},
   "source": [
    "## 손실함수는 crossentropy, optimizer는 adam, 결과는 정확도로 확인한다."
   ]
  },
  {
   "cell_type": "code",
   "execution_count": 34,
   "metadata": {
    "colab": {},
    "colab_type": "code",
    "id": "DxYm4R6pdD5J"
   },
   "outputs": [],
   "source": [
    "model.compile(loss='binary_crossentropy',optimizer='adam',metrics=['accuracy'])"
   ]
  },
  {
   "cell_type": "markdown",
   "metadata": {},
   "source": [
    "## feature는 255까지의 수이므로 255를 나눠주고 feature와 target을 배열로 변환한다."
   ]
  },
  {
   "cell_type": "code",
   "execution_count": 35,
   "metadata": {
    "colab": {},
    "colab_type": "code",
    "id": "cqDSW3t1gDul"
   },
   "outputs": [],
   "source": [
    "X = np.array(feature)/255\n",
    "Y = np.array(target)"
   ]
  },
  {
   "cell_type": "markdown",
   "metadata": {},
   "source": [
    "## 전처리가 완료된 데이터를 train,test , 9:1 비율로 임의로 나눈다."
   ]
  },
  {
   "cell_type": "code",
   "execution_count": 36,
   "metadata": {
    "colab": {},
    "colab_type": "code",
    "id": "z80iIlekmQuO"
   },
   "outputs": [],
   "source": [
    "from sklearn.model_selection import train_test_split\n",
    "X_train, X_test, y_train, y_test = train_test_split(X,Y, test_size=0.1, random_state=11)"
   ]
  },
  {
   "cell_type": "code",
   "execution_count": 37,
   "metadata": {
    "colab": {
     "base_uri": "https://localhost:8080/",
     "height": 34
    },
    "colab_type": "code",
    "id": "Hi9CRMrUmlqN",
    "outputId": "bcb13bda-4c5b-4df7-c004-64412b321b81",
    "scrolled": true
   },
   "outputs": [
    {
     "name": "stdout",
     "output_type": "stream",
     "text": [
      "(1577, 50, 50, 1) (176, 50, 50, 1) (1577,) (176,)\n"
     ]
    }
   ],
   "source": [
    "print(X_train.shape, X_test.shape, y_train.shape, y_test.shape)"
   ]
  },
  {
   "cell_type": "markdown",
   "metadata": {},
   "source": [
    "## 앞서 구현한 모델에 학습시킨다.\n",
    "\n",
    "---\n",
    "batch_size는 기본적으로 많이 사용하는 32개를 기준으로 잡았고 50회 반복시행했다. "
   ]
  },
  {
   "cell_type": "code",
   "execution_count": 38,
   "metadata": {
    "colab": {
     "base_uri": "https://localhost:8080/",
     "height": 1734
    },
    "colab_type": "code",
    "id": "u5w7nruff-a2",
    "outputId": "af7506e0-1477-4757-a317-52d1f025a5b8"
   },
   "outputs": [
    {
     "name": "stdout",
     "output_type": "stream",
     "text": [
      "WARNING:tensorflow:From c:\\users\\anary\\appdata\\local\\programs\\python\\python36\\lib\\site-packages\\tensorflow\\python\\ops\\math_ops.py:3066: to_int32 (from tensorflow.python.ops.math_ops) is deprecated and will be removed in a future version.\n",
      "Instructions for updating:\n",
      "Use tf.cast instead.\n",
      "Train on 1577 samples, validate on 176 samples\n",
      "Epoch 1/50\n",
      "1577/1577 [==============================] - 4s 2ms/step - loss: 0.6942 - acc: 0.4997 - val_loss: 0.6936 - val_acc: 0.4830\n",
      "Epoch 2/50\n",
      "1577/1577 [==============================] - 3s 2ms/step - loss: 0.6917 - acc: 0.5168 - val_loss: 0.6777 - val_acc: 0.6420\n",
      "Epoch 3/50\n",
      "1577/1577 [==============================] - 3s 2ms/step - loss: 0.6638 - acc: 0.6132 - val_loss: 0.5936 - val_acc: 0.6591\n",
      "Epoch 4/50\n",
      "1577/1577 [==============================] - 3s 2ms/step - loss: 0.5808 - acc: 0.6817 - val_loss: 0.5616 - val_acc: 0.7102\n",
      "Epoch 5/50\n",
      "1577/1577 [==============================] - 3s 2ms/step - loss: 0.5154 - acc: 0.7457 - val_loss: 0.5460 - val_acc: 0.7045\n",
      "Epoch 6/50\n",
      "1577/1577 [==============================] - 3s 2ms/step - loss: 0.4446 - acc: 0.7964 - val_loss: 0.5417 - val_acc: 0.7330\n",
      "Epoch 7/50\n",
      "1577/1577 [==============================] - 3s 2ms/step - loss: 0.3868 - acc: 0.8148 - val_loss: 0.5492 - val_acc: 0.7670\n",
      "Epoch 8/50\n",
      "1577/1577 [==============================] - 3s 2ms/step - loss: 0.3176 - acc: 0.8624 - val_loss: 0.7043 - val_acc: 0.6875\n",
      "Epoch 9/50\n",
      "1577/1577 [==============================] - 3s 2ms/step - loss: 0.2436 - acc: 0.8922 - val_loss: 0.7145 - val_acc: 0.7330\n",
      "Epoch 10/50\n",
      "1577/1577 [==============================] - 3s 2ms/step - loss: 0.2054 - acc: 0.9188 - val_loss: 0.7346 - val_acc: 0.7557\n",
      "Epoch 11/50\n",
      "1577/1577 [==============================] - 3s 2ms/step - loss: 0.1662 - acc: 0.9341 - val_loss: 0.8996 - val_acc: 0.6989\n",
      "Epoch 12/50\n",
      "1577/1577 [==============================] - 3s 2ms/step - loss: 0.1056 - acc: 0.9594 - val_loss: 1.0067 - val_acc: 0.7557\n",
      "Epoch 13/50\n",
      "1577/1577 [==============================] - 3s 2ms/step - loss: 0.0699 - acc: 0.9727 - val_loss: 1.2932 - val_acc: 0.7159\n",
      "Epoch 14/50\n",
      "1577/1577 [==============================] - 3s 2ms/step - loss: 0.0782 - acc: 0.9734 - val_loss: 1.1399 - val_acc: 0.7159\n",
      "Epoch 15/50\n",
      "1577/1577 [==============================] - 3s 2ms/step - loss: 0.0515 - acc: 0.9816 - val_loss: 1.4060 - val_acc: 0.7159\n",
      "Epoch 16/50\n",
      "1577/1577 [==============================] - 3s 2ms/step - loss: 0.0742 - acc: 0.9677 - val_loss: 1.6317 - val_acc: 0.7045\n",
      "Epoch 17/50\n",
      "1577/1577 [==============================] - 3s 2ms/step - loss: 0.0672 - acc: 0.9791 - val_loss: 1.1960 - val_acc: 0.7386\n",
      "Epoch 18/50\n",
      "1577/1577 [==============================] - 3s 2ms/step - loss: 0.0431 - acc: 0.9873 - val_loss: 1.4319 - val_acc: 0.7216\n",
      "Epoch 19/50\n",
      "1577/1577 [==============================] - 3s 2ms/step - loss: 0.0619 - acc: 0.9765 - val_loss: 1.3443 - val_acc: 0.7216\n",
      "Epoch 20/50\n",
      "1577/1577 [==============================] - 3s 2ms/step - loss: 0.0134 - acc: 0.9962 - val_loss: 1.5000 - val_acc: 0.7386\n",
      "Epoch 21/50\n",
      "1577/1577 [==============================] - 3s 2ms/step - loss: 0.0034 - acc: 1.0000 - val_loss: 1.5863 - val_acc: 0.7443\n",
      "Epoch 22/50\n",
      "1577/1577 [==============================] - 3s 2ms/step - loss: 0.0013 - acc: 1.0000 - val_loss: 1.6786 - val_acc: 0.7500\n",
      "Epoch 23/50\n",
      "1577/1577 [==============================] - 3s 2ms/step - loss: 6.9176e-04 - acc: 1.0000 - val_loss: 1.7204 - val_acc: 0.7500\n",
      "Epoch 24/50\n",
      "1577/1577 [==============================] - 3s 2ms/step - loss: 4.9400e-04 - acc: 1.0000 - val_loss: 1.7575 - val_acc: 0.7443\n",
      "Epoch 25/50\n",
      "1577/1577 [==============================] - 3s 2ms/step - loss: 3.8984e-04 - acc: 1.0000 - val_loss: 1.7894 - val_acc: 0.7443\n",
      "Epoch 26/50\n",
      "1577/1577 [==============================] - 3s 2ms/step - loss: 3.2402e-04 - acc: 1.0000 - val_loss: 1.8258 - val_acc: 0.7443\n",
      "Epoch 27/50\n",
      "1577/1577 [==============================] - 3s 2ms/step - loss: 2.6376e-04 - acc: 1.0000 - val_loss: 1.8551 - val_acc: 0.7443\n",
      "Epoch 28/50\n",
      "1577/1577 [==============================] - 3s 2ms/step - loss: 2.1902e-04 - acc: 1.0000 - val_loss: 1.8831 - val_acc: 0.7500\n",
      "Epoch 29/50\n",
      "1577/1577 [==============================] - 3s 2ms/step - loss: 1.8587e-04 - acc: 1.0000 - val_loss: 1.9061 - val_acc: 0.7500\n",
      "Epoch 30/50\n",
      "1577/1577 [==============================] - 4s 2ms/step - loss: 1.6020e-04 - acc: 1.0000 - val_loss: 1.9320 - val_acc: 0.7500\n",
      "Epoch 31/50\n",
      "1577/1577 [==============================] - 4s 2ms/step - loss: 1.3821e-04 - acc: 1.0000 - val_loss: 1.9540 - val_acc: 0.7500\n",
      "Epoch 32/50\n",
      "1577/1577 [==============================] - 3s 2ms/step - loss: 1.2175e-04 - acc: 1.0000 - val_loss: 1.9752 - val_acc: 0.7500\n",
      "Epoch 33/50\n",
      "1577/1577 [==============================] - 3s 2ms/step - loss: 1.0656e-04 - acc: 1.0000 - val_loss: 1.9945 - val_acc: 0.7500\n",
      "Epoch 34/50\n",
      "1577/1577 [==============================] - 3s 2ms/step - loss: 9.4539e-05 - acc: 1.0000 - val_loss: 2.0129 - val_acc: 0.7500\n",
      "Epoch 35/50\n",
      "1577/1577 [==============================] - 3s 2ms/step - loss: 8.3595e-05 - acc: 1.0000 - val_loss: 2.0327 - val_acc: 0.7500\n",
      "Epoch 36/50\n",
      "1577/1577 [==============================] - 4s 2ms/step - loss: 7.4668e-05 - acc: 1.0000 - val_loss: 2.0473 - val_acc: 0.7557\n",
      "Epoch 37/50\n",
      "1577/1577 [==============================] - 3s 2ms/step - loss: 6.6873e-05 - acc: 1.0000 - val_loss: 2.0666 - val_acc: 0.7557\n",
      "Epoch 38/50\n",
      "1577/1577 [==============================] - 3s 2ms/step - loss: 6.0490e-05 - acc: 1.0000 - val_loss: 2.0825 - val_acc: 0.7557\n",
      "Epoch 39/50\n",
      "1577/1577 [==============================] - 4s 2ms/step - loss: 5.5212e-05 - acc: 1.0000 - val_loss: 2.0955 - val_acc: 0.7557\n",
      "Epoch 40/50\n",
      "1577/1577 [==============================] - 3s 2ms/step - loss: 4.9449e-05 - acc: 1.0000 - val_loss: 2.1102 - val_acc: 0.7500\n",
      "Epoch 41/50\n",
      "1577/1577 [==============================] - 4s 2ms/step - loss: 4.5349e-05 - acc: 1.0000 - val_loss: 2.1254 - val_acc: 0.7500\n",
      "Epoch 42/50\n",
      "1577/1577 [==============================] - 4s 2ms/step - loss: 4.1588e-05 - acc: 1.0000 - val_loss: 2.1378 - val_acc: 0.7500\n",
      "Epoch 43/50\n",
      "1577/1577 [==============================] - 4s 2ms/step - loss: 3.7817e-05 - acc: 1.0000 - val_loss: 2.1484 - val_acc: 0.7500\n",
      "Epoch 44/50\n",
      "1577/1577 [==============================] - 3s 2ms/step - loss: 3.4822e-05 - acc: 1.0000 - val_loss: 2.1596 - val_acc: 0.7500\n",
      "Epoch 45/50\n",
      "1577/1577 [==============================] - 3s 2ms/step - loss: 3.2058e-05 - acc: 1.0000 - val_loss: 2.1724 - val_acc: 0.7443\n",
      "Epoch 46/50\n",
      "1577/1577 [==============================] - 3s 2ms/step - loss: 2.9825e-05 - acc: 1.0000 - val_loss: 2.1814 - val_acc: 0.7386\n",
      "Epoch 47/50\n",
      "1577/1577 [==============================] - 3s 2ms/step - loss: 2.7741e-05 - acc: 1.0000 - val_loss: 2.1916 - val_acc: 0.7386\n",
      "Epoch 48/50\n",
      "1577/1577 [==============================] - 3s 2ms/step - loss: 2.5604e-05 - acc: 1.0000 - val_loss: 2.2016 - val_acc: 0.7386\n",
      "Epoch 49/50\n",
      "1577/1577 [==============================] - 3s 2ms/step - loss: 2.3844e-05 - acc: 1.0000 - val_loss: 2.2142 - val_acc: 0.7386\n",
      "Epoch 50/50\n",
      "1577/1577 [==============================] - 3s 2ms/step - loss: 2.2295e-05 - acc: 1.0000 - val_loss: 2.2244 - val_acc: 0.7386\n"
     ]
    }
   ],
   "source": [
    "history = model.fit(X_train, y_train, batch_size=32,epochs=50,verbose=1,validation_data = (X_test, y_test))"
   ]
  },
  {
   "cell_type": "markdown",
   "metadata": {},
   "source": [
    "## 손실함수와 정확도를 저장해 결과를 시각화한다."
   ]
  },
  {
   "cell_type": "code",
   "execution_count": 39,
   "metadata": {
    "colab": {},
    "colab_type": "code",
    "id": "d0oh-HSTgZzY"
   },
   "outputs": [],
   "source": [
    "history_dict = history.history\n",
    "loss_values = history_dict['loss']\n",
    "val_loss_values = history_dict['val_loss']\n",
    "acc_values = history_dict['acc']\n",
    "val_acc_values = history_dict['val_acc']\n",
    "epochs = range(1, len(val_loss_values) + 1)"
   ]
  },
  {
   "cell_type": "code",
   "execution_count": 40,
   "metadata": {
    "colab": {
     "base_uri": "https://localhost:8080/",
     "height": 386
    },
    "colab_type": "code",
    "id": "OAhHgTGs9H0C",
    "outputId": "2a3aca7e-1db1-4963-97cf-3a12538e4cf3"
   },
   "outputs": [
    {
     "name": "stderr",
     "output_type": "stream",
     "text": [
      "c:\\users\\anary\\appdata\\local\\programs\\python\\python36\\lib\\site-packages\\matplotlib\\cbook\\__init__.py:424: MatplotlibDeprecationWarning: \n",
      "Passing one of 'on', 'true', 'off', 'false' as a boolean is deprecated; use an actual boolean (True/False) instead.\n",
      "  warn_deprecated(\"2.2\", \"Passing one of 'on', 'true', 'off', 'false' as a \"\n"
     ]
    },
    {
     "data": {
      "image/png": "[encoded data removed]",
      "text/plain": [
       "<Figure size 432x288 with 1 Axes>"
      ]
     },
     "metadata": {
      "needs_background": "light"
     },
     "output_type": "display_data"
    },
    {
     "data": {
      "image/png": "[encoded data removed]",
      "text/plain": [
       "<Figure size 432x288 with 1 Axes>"
      ]
     },
     "metadata": {
      "needs_background": "light"
     },
     "output_type": "display_data"
    }
   ],
   "source": [
    "import matplotlib.pyplot as plt\n",
    "%matplotlib inline\n",
    "plt.subplot(211)\n",
    "plt.plot(epochs, history.history['loss'], 'bo', label='Training loss')\n",
    "plt.plot(epochs, val_loss_values, 'b', label='Test loss')\n",
    "plt.title('Training and test loss')\n",
    "plt.xlabel('Epochs')\n",
    "plt.ylabel('Loss')\n",
    "plt.legend()\n",
    "plt.grid('off')\n",
    "plt.show()\n",
    "plt.subplot(212)\n",
    "plt.plot(epochs, history.history['acc'], 'bo', label='Training accuracy')\n",
    "plt.plot(epochs, val_acc_values, 'b', label='Test accuracy')\n",
    "plt.title('Training and test accuracy')\n",
    "plt.xlabel('Epochs')\n",
    "plt.ylabel('Accuracy')\n",
    "plt.gca().set_yticklabels(['{:.0f}%'.format(x*100) for x in plt.gca().get_yticks()])\n",
    "plt.legend()\n",
    "plt.grid('off')\n",
    "plt.show()\n"
   ]
  },
  {
   "cell_type": "code",
   "execution_count": 46,
   "metadata": {},
   "outputs": [
    {
     "name": "stdout",
     "output_type": "stream",
     "text": [
      "[0.4996829423143959, 0.516804058395312, 0.6131896005828847, 0.6816740647931604, 0.745719721140405, 0.7964489537473713, 0.8148383006462964, 0.8623969562460367, 0.8922003805070416, 0.9188332277230242, 0.9340519975013346, 0.9594166138615121, 0.9727330374128091, 0.9733671528218135, 0.9816106531388713, 0.9676601141407736, 0.9790741915028536, 0.9873176918199112, 0.9765377298668357, 0.9961953075459734, 1.0, 1.0, 1.0, 1.0, 1.0, 1.0, 1.0, 1.0, 1.0, 1.0, 1.0, 1.0, 1.0, 1.0, 1.0, 1.0, 1.0, 1.0, 1.0, 1.0, 1.0, 1.0, 1.0, 1.0, 1.0, 1.0, 1.0, 1.0, 1.0, 1.0]\n"
     ]
    }
   ],
   "source": [
    "print(acc_values)"
   ]
  },
  {
   "cell_type": "code",
   "execution_count": 47,
   "metadata": {},
   "outputs": [
    {
     "name": "stdout",
     "output_type": "stream",
     "text": [
      "[0.6942101329583946, 0.6917037565872952, 0.663809551191844, 0.5808293161395236, 0.5154372823336643, 0.44460680183157864, 0.38680702147411256, 0.3175692783459577, 0.24364681624126494, 0.20538828859770683, 0.16619444656916335, 0.10564564298850189, 0.06993200717117111, 0.07820471170427457, 0.05154489695118739, 0.07419961689367238, 0.06721557015594457, 0.04307265572776084, 0.06186795446575255, 0.013407887728824579, 0.0034392494325169946, 0.0012833824812419259, 0.0006917612021080275, 0.0004940007274900135, 0.0003898441039393263, 0.0003240199017298001, 0.00026376447442335243, 0.00021901755909596086, 0.00018586988034135113, 0.00016020238434310944, 0.00013821218001891945, 0.00012174960739986675, 0.00010656244835569246, 9.453937377498385e-05, 8.359450810682944e-05, 7.466847740494503e-05, 6.687262659741403e-05, 6.049046472006398e-05, 5.5212433918021366e-05, 4.944859151896809e-05, 4.5349318828219226e-05, 4.1588321151247105e-05, 3.7816561579905454e-05, 3.482206226773879e-05, 3.2057960421331495e-05, 2.9825005193920035e-05, 2.774093862133803e-05, 2.5604214497941958e-05, 2.3844283531949154e-05, 2.2294662764914775e-05]\n"
     ]
    }
   ],
   "source": [
    "print(loss_values)"
   ]
  },
  {
   "cell_type": "code",
   "execution_count": 52,
   "metadata": {},
   "outputs": [
    {
     "name": "stdout",
     "output_type": "stream",
     "text": [
      "[0.6936069185083563, 0.6776712916114114, 0.5935958244583823, 0.5615741989829324, 0.5459641380743547, 0.5417487296191129, 0.5492382591420953, 0.7043091492219404, 0.7144981622695923, 0.7345509095625444, 0.899616848338734, 1.0067241516980259, 1.293237100947987, 1.1399236917495728, 1.4059850410981611, 1.6316760236566716, 1.1960476420142434, 1.431920745156028, 1.344280177896673, 1.5000253265554255, 1.5863485878164119, 1.6786297451366077, 1.720404570752924, 1.7575263868678699, 1.7893992120569402, 1.8257561922073364, 1.8551258824088357, 1.8831480633128772, 1.9060898152264683, 1.932045112956654, 1.954018311067061, 1.9751993959600276, 1.9945176948200574, 2.012910387732766, 2.032691717147827, 2.047334085811268, 2.0665601817044346, 2.082503405484286, 2.095543081110174, 2.1102312694896352, 2.1254447156732734, 2.1377531831914727, 2.1484099951657383, 2.1595998027107934, 2.1724105314774946, 2.181445837020874, 2.191625378348611, 2.2015609307722612, 2.2141703475605357, 2.224406675858931]\n"
     ]
    }
   ],
   "source": [
    "print(val_loss_values)"
   ]
  },
  {
   "cell_type": "code",
   "execution_count": 53,
   "metadata": {},
   "outputs": [
    {
     "name": "stdout",
     "output_type": "stream",
     "text": [
      "[0.48295454545454547, 0.6420454545454546, 0.6590909090909091, 0.7102272727272727, 0.7045454545454546, 0.7329545454545454, 0.7670454545454546, 0.6875, 0.7329545454545454, 0.7556818181818182, 0.6988636363636364, 0.7556818181818182, 0.7159090909090909, 0.7159090909090909, 0.7159090909090909, 0.7045454545454546, 0.7386363636363636, 0.7215909090909091, 0.7215909090909091, 0.7386363636363636, 0.7443181818181818, 0.75, 0.75, 0.7443181818181818, 0.7443181818181818, 0.7443181818181818, 0.7443181818181818, 0.75, 0.75, 0.75, 0.75, 0.75, 0.75, 0.75, 0.75, 0.7556818181818182, 0.7556818181818182, 0.7556818181818182, 0.7556818181818182, 0.75, 0.75, 0.75, 0.75, 0.75, 0.7443181818181818, 0.7386363636363636, 0.7386363636363636, 0.7386363636363636, 0.7386363636363636, 0.7386363636363636]\n"
     ]
    }
   ],
   "source": [
    "print(val_acc_values)"
   ]
  },
  {
   "cell_type": "code",
   "execution_count": null,
   "metadata": {},
   "outputs": [],
   "source": []
  }
 ],
 "metadata": {
  "accelerator": "GPU",
  "colab": {
   "collapsed_sections": [],
   "name": "Gender classification.ipynb",
   "provenance": [],
   "version": "0.3.2"
  },
  "kernelspec": {
   "display_name": "Python 3",
   "language": "python",
   "name": "python3"
  },
  "language_info": {
   "codemirror_mode": {
    "name": "ipython",
    "version": 3
   },
   "file_extension": ".py",
   "mimetype": "text/x-python",
   "name": "python",
   "nbconvert_exporter": "python",
   "pygments_lexer": "ipython3",
   "version": "3.6.8"
  }
 },
 "nbformat": 4,
 "nbformat_minor": 1
}
